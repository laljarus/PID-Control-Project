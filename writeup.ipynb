{
 "cells": [
  {
   "cell_type": "markdown",
   "metadata": {},
   "source": [
    "# PID Control Project\n",
    "\n",
    "The aim of this project is to implement a PID ( Propotional Integral and Derivative Controller) to keep a vehicle in the center of the road.This writeup discusses how each point in the project requirements are considered in the project implementation and also how the parameters of the controller is tuned.\n",
    "\n",
    "### The follwoing steps are involved in designing the PID controller.\n",
    "1. Identification of System Model\n",
    "2. Controller Design\n",
    "\n",
    "## System Identification\n",
    "In order to design a controller it is important to understand the behaviour of the system. The following picture shows the overview of the control loop for controlling the steering of the vehicle.\n",
    "\n",
    "![Control Loop](./Pictures/ControlLoop.png)\n",
    "\n",
    "The PID contorller receives from the simulator the cross track error, which is the distance of the vehicle from the center of the road. Then it should calculate the steering command value and sends back to the simulator which is applied to the car. In order to control the car its behaviour has to be understood i.e. how steering value(input variable) affects the postion of the car(output variable). Ideally a mathematical model to describe the motion of vehicle would be useful to design a controller. There are many ways to get such a mathematical model.One method is to use physical equations to describe the vehicle motion. Another method is to make experiments on the vehicle and estimate the model based on the input and output data which is called black box system identification which is a form of supervised learning. One of the common model used for describing the lateral dynamics of vehicle motion is called bicycle model, which reduces the wheels of car into two front and rear wheel. In this project a simplified verision of bicycle model is used to model the vehicle. The following picture shows the properties of the vehicle motion.\n",
    "\n",
    "![Control Loop](./Pictures/SingleTrackModel.png)\n",
    "\n",
    "The main assumption of the bicycle model is that the magnitude of the vehicle velocity is constant and the bicycle model can be used to calculate the vehicle position for a given steering angle. In this project instead of indentifying the parameters of physical equations of the bicycle model experimental data is used to estimate the transfer function between steering angle and the vehicle position. This project uses the same simulator used in the term - 1 project \"Behaviour Cloning\". The term-1 was modified to carry out the necassary experiments for estimating the transfer function. The simulator was modified to log the input and output data. The following table shows the input and output variables logged from the simulator. \n",
    "\n",
    "|Name|Type|Symbol|\n",
    "|:-|:-|:-|\n",
    "|Steering Angle| Input Variable| $\\delta$|\n",
    "|Speed| Output Variable (Considered constant - controlled by another PID  )| $\\lvert V \\rvert$|\n",
    "|Position in X axis | Output Variable | X |\n",
    "|Position in Y axis | Output Variable | Y |\n",
    "|Yaw Angle(w.r.t X axis)| Output Variable | $\\psi$|\n",
    "|Angle of Velocity vector (w.r.t X axis)| Output Variable ( derived from X and Y)| $\\nu$|\n",
    "|Time||t|\n",
    "\n",
    "\n",
    "When a vehicle is moving at a constant velocity giving a steering wheel angle causes the vehicle to yaw and change the direction of vehicle velocity. The position of the vehicle can be determined from the direction and magnitude of the velocity vector using the following equations.\n",
    "\n",
    "$$\\frac{dX}{dt} = |V|\\cos\\nu$$\n",
    "\n",
    "$$\\frac{dY}{dt} = |V|\\sin\\nu$$\n",
    "\n",
    "Experiments are carried out to find the transfer function between the steering angle $\\delta$ and the direction of velocity $\\nu$ and then the above equations are used to calulate the position of the vehicle.\n",
    "\n",
    "The experiments are done by driving the car in a plane at constanct speed and by giving sinusoidal signals of varying frequency(0 to 4 Hz) to the steering value and measuring the position and yaw of the vehicle in response. The following picture shows the experimental data. The car was excited with input steering value of varying frequency to basically determine the frequency response of the car to the steering input. It can be seen from the data that at low frequencies the system has high gain and so high amplitude amplification. When the input frequncy is high the car doesn't respond quicky and so the gain and amplification are reduced.\n",
    "\n",
    "![Control Loop](./Pictures/ExpData.png)\n",
    "\n",
    "\n",
    "\n",
    "\n"
   ]
  },
  {
   "cell_type": "code",
   "execution_count": null,
   "metadata": {},
   "outputs": [],
   "source": []
  }
 ],
 "metadata": {
  "kernelspec": {
   "display_name": "Python 3",
   "language": "python",
   "name": "python3"
  },
  "language_info": {
   "codemirror_mode": {
    "name": "ipython",
    "version": 3
   },
   "file_extension": ".py",
   "mimetype": "text/x-python",
   "name": "python",
   "nbconvert_exporter": "python",
   "pygments_lexer": "ipython3",
   "version": "3.6.2"
  }
 },
 "nbformat": 4,
 "nbformat_minor": 2
}
